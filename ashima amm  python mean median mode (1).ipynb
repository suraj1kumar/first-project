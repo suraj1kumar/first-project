{
 "cells": [
  {
   "cell_type": "code",
   "execution_count": 2,
   "id": "0e137dd1",
   "metadata": {},
   "outputs": [
    {
     "name": "stdout",
     "output_type": "stream",
     "text": [
      "Mean sales for Region A: 11.8\n",
      "Mean sales for Region B: 20.2\n"
     ]
    }
   ],
   "source": [
    " \n",
    "sales_region_a = [10, 15, 12, 8, 14]\n",
    "sales_region_b = [18, 20, 16, 22, 25]\n",
    "\n",
    "# Calculate mean for each region\n",
    "mean_region_a = sum(sales_region_a) / len(sales_region_a)\n",
    "mean_region_b = sum(sales_region_b) / len(sales_region_b)\n",
    "\n",
    "# Display the results\n",
    "print(\"Mean sales for Region A:\", mean_region_a)\n",
    "print(\"Mean sales for Region B:\", mean_region_b)"
   ]
  },
  {
   "cell_type": "code",
   "execution_count": 3,
   "id": "4c889794",
   "metadata": {},
   "outputs": [
    {
     "ename": "NameError",
     "evalue": "name 'np' is not defined",
     "output_type": "error",
     "traceback": [
      "\u001b[1;31m---------------------------------------------------------------------------\u001b[0m",
      "\u001b[1;31mNameError\u001b[0m                                 Traceback (most recent call last)",
      "Cell \u001b[1;32mIn[3], line 10\u001b[0m\n\u001b[0;32m      7\u001b[0m salaries_department_b \u001b[38;5;241m=\u001b[39m [\u001b[38;5;241m4500\u001b[39m, \u001b[38;5;241m5500\u001b[39m, \u001b[38;5;241m5800\u001b[39m, \u001b[38;5;241m6000\u001b[39m, \u001b[38;5;241m5200\u001b[39m]\n\u001b[0;32m      9\u001b[0m \u001b[38;5;66;03m# Calculate median for each department\u001b[39;00m\n\u001b[1;32m---> 10\u001b[0m median_department_a \u001b[38;5;241m=\u001b[39m np\u001b[38;5;241m.\u001b[39mmedian(salaries_department_a)\n\u001b[0;32m     11\u001b[0m median_department_b \u001b[38;5;241m=\u001b[39m np\u001b[38;5;241m.\u001b[39mmedian(salaries_department_b)\n\u001b[0;32m     13\u001b[0m \u001b[38;5;66;03m# Display the results\u001b[39;00m\n",
      "\u001b[1;31mNameError\u001b[0m: name 'np' is not defined"
     ]
    }
   ],
   "source": [
    "# scenario: A company wants to  compare the salaries of two departments. the salary data for department A and DepartmentB are as \n",
    "    # follows: departmentA:[5000,6000,5500,7000] department B:[4500,5500,5800,6000,5200]\n",
    "    # calulate the median salary for each departmentimport numpy as np\n",
    "\n",
    "# Salary data for each department\n",
    "salaries_department_a = [5000, 6000, 5500, 7000]\n",
    "salaries_department_b = [4500, 5500, 5800, 6000, 5200]\n",
    "\n",
    "# Calculate median for each department\n",
    "median_department_a = np.median(salaries_department_a)\n",
    "median_department_b = np.median(salaries_department_b)\n",
    "\n",
    "# Display the results\n",
    "print(\"Median salary for Department A:\", median_department_a)\n",
    "print(\"Median salary for Department B:\", median_department_b)"
   ]
  },
  {
   "cell_type": "code",
   "execution_count": 5,
   "id": "4707713c",
   "metadata": {},
   "outputs": [],
   "source": [
    "import numpy as np"
   ]
  },
  {
   "cell_type": "code",
   "execution_count": 6,
   "id": "e7c5defd",
   "metadata": {},
   "outputs": [
    {
     "name": "stdout",
     "output_type": "stream",
     "text": [
      "Median salary for Department A: 5750.0\n",
      "Median salary for Department B: 5500.0\n"
     ]
    }
   ],
   "source": [
    "import numpy as np\n",
    "\n",
    "# Salary data for each department\n",
    "salaries_department_a = [5000, 6000, 5500, 7000]\n",
    "salaries_department_b = [4500, 5500, 5800, 6000, 5200]\n",
    "\n",
    "# Calculate median for each department\n",
    "median_department_a = np.median(salaries_department_a)\n",
    "median_department_b = np.median(salaries_department_b)\n",
    "\n",
    "# Display the results\n",
    "print(\"Median salary for Department A:\", median_department_a)\n",
    "print(\"Median salary for Department B:\", median_department_b)"
   ]
  },
  {
   "cell_type": "code",
   "execution_count": null,
   "id": "273c0a53",
   "metadata": {},
   "outputs": [],
   "source": [
    "\n"
   ]
  },
  {
   "cell_type": "code",
   "execution_count": 8,
   "id": "09cdce0e",
   "metadata": {},
   "outputs": [
    {
     "name": "stdout",
     "output_type": "stream",
     "text": [
      "Range of stock prices: 25\n",
      "Standard deviation of stock prices: 10.039920318408907\n",
      "Variance of stock prices: 100.8\n"
     ]
    }
   ],
   "source": [
    " \n",
    "import numpy as np\n",
    "\n",
    "# Daily stock prices data\n",
    "stock_prices = [25, 5, 24, 8, 26, 1, 25, 3, 24, 9]\n",
    "\n",
    "# Calculate range\n",
    "price_range = max(stock_prices) - min(stock_prices)\n",
    "\n",
    "# Calculate standard de\n",
    "viation and variance\n",
    "std_deviation = np.std(stock_prices)\n",
    "variance = np.var(stock_prices)\n",
    "\n",
    "# Display the results\n",
    "print(\"Range of stock prices:\", price_range)\n",
    "print(\"Standard deviation of stock prices:\", std_deviation)\n",
    "print(\"Variance of stock prices:\", variance)\n"
   ]
  },
  {
   "cell_type": "code",
   "execution_count": 9,
   "id": "cae433ed",
   "metadata": {},
   "outputs": [
    {
     "name": "stdout",
     "output_type": "stream",
     "text": [
      "Mode of customer satisfaction data: 4\n"
     ]
    }
   ],
   "source": [
    "  import statistics\n",
    "\n",
    "\n",
    "satisfaction_data= [4, 5, 2,  3, 5, 4, 3, 2, 4, 5]\n",
    "mode_satisfaction = statistics.mode(satisfaction_data)\n",
    "\n",
    "print(\"Mode of customer satisfaction data:\", mode_satisfaction)"
   ]
  },
  {
   "cell_type": "code",
   "execution_count": null,
   "id": "1a89c0fa",
   "metadata": {},
   "outputs": [],
   "source": []
  }
 ],
 "metadata": {
  "kernelspec": {
   "display_name": "Python 3 (ipykernel)",
   "language": "python",
   "name": "python3"
  },
  "language_info": {
   "codemirror_mode": {
    "name": "ipython",
    "version": 3
   },
   "file_extension": ".py",
   "mimetype": "text/x-python",
   "name": "python",
   "nbconvert_exporter": "python",
   "pygments_lexer": "ipython3",
   "version": "3.11.5"
  }
 },
 "nbformat": 4,
 "nbformat_minor": 5
}
