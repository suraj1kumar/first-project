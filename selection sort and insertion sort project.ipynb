{
 "cells": [
  {
   "cell_type": "code",
   "execution_count": 13,
   "id": "9f8e8099",
   "metadata": {},
   "outputs": [],
   "source": [
    "# def selection_ sort (array)\n",
    "import array\n",
    "from array import*\n",
    "\n",
    "def selection_sort(array):\n",
    "    n=len(arr)\n",
    "    for i in range (0,n-1):\n",
    "        min_value=i\n",
    "    for j in range(i+1,n):\n",
    "        if arr[min_value]>arr[j]:\n",
    "            min_value=j\n",
    "            arr[i],arr[min_value]=arr[min_value],arr[i]\n",
    "            arr=array('i',[2,6,5,1,3,4])\n",
    "            selection_sort(arr)\n",
    "            print(arr)"
   ]
  },
  {
   "cell_type": "code",
   "execution_count": 8,
   "id": "9ba63df6",
   "metadata": {},
   "outputs": [
    {
     "name": "stdout",
     "output_type": "stream",
     "text": [
      "array('i', [1, 2, 3, 4, 5, 6])\n"
     ]
    }
   ],
   "source": [
    "def selection_sort(array):\n",
    "    n=len(arr)\n",
    "    for i in range(0,n-1):\n",
    "        min_value=i\n",
    "        for j in range(i+1,n):\n",
    "            if arr[min_value]>arr[j]:\n",
    "                min_value=j\n",
    "        arr[i],arr[min_value]=arr[min_value],arr[i]       \n",
    "arr=array('i',[2,6,5,1,3,4])\n",
    "selection_sort(arr)\n",
    "print(arr)"
   ]
  },
  {
   "cell_type": "code",
   "execution_count": null,
   "id": "a265bb8d",
   "metadata": {},
   "outputs": [],
   "source": []
  },
  {
   "cell_type": "code",
   "execution_count": 10,
   "id": "29612f0f",
   "metadata": {},
   "outputs": [],
   "source": [
    "import array\n",
    "from array import*"
   ]
  },
  {
   "cell_type": "code",
   "execution_count": 11,
   "id": "3b19d95a",
   "metadata": {},
   "outputs": [
    {
     "name": "stdout",
     "output_type": "stream",
     "text": [
      "array('i', [1, 2, 3, 4, 5, 6])\n"
     ]
    }
   ],
   "source": [
    "def insertion_sort(array):\n",
    "    for i in range(1,len(arr)):\n",
    "        j=i\n",
    "        while arr[j-1]>arr[j] and j>0:\n",
    "            arr[j-1],arr[j]=arr[j],arr[j-1]\n",
    "            j=j-1\n",
    "arr=array('i',[2,6,5,1,3,4])\n",
    "insertion_sort(arr)\n",
    "print(arr)"
   ]
  },
  {
   "cell_type": "code",
   "execution_count": null,
   "id": "c7e5943c",
   "metadata": {},
   "outputs": [],
   "source": []
  }
 ],
 "metadata": {
  "kernelspec": {
   "display_name": "Python 3 (ipykernel)",
   "language": "python",
   "name": "python3"
  },
  "language_info": {
   "codemirror_mode": {
    "name": "ipython",
    "version": 3
   },
   "file_extension": ".py",
   "mimetype": "text/x-python",
   "name": "python",
   "nbconvert_exporter": "python",
   "pygments_lexer": "ipython3",
   "version": "3.11.5"
  }
 },
 "nbformat": 4,
 "nbformat_minor": 5
}
