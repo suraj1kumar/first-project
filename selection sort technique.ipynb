{
 "cells": [
  {
   "cell_type": "code",
   "execution_count": 2,
   "id": "c361eb0c",
   "metadata": {},
   "outputs": [
    {
     "name": "stdout",
     "output_type": "stream",
     "text": [
      "array('i', [1, 2, 3, 4, 5, 6])\n"
     ]
    }
   ],
   "source": [
    "#sorting an array by selection sort techniquer.\n",
    "from array import *\n",
    "def selection_sort(array):\n",
    "    n=len(arr)\n",
    "    for i in range(0,n-1):\n",
    "        min_value=i\n",
    "        for j in range(i+1,n):\n",
    "            if arr[min_value]>arr[j]:\n",
    "                min_value=j\n",
    "        arr[i],arr[min_value]=arr[min_value],arr[i]       \n",
    "arr=array('i',[2,6,5,1,3,4])\n",
    "selection_sort(arr)\n",
    "print(arr)"
   ]
  },
  {
   "cell_type": "code",
   "execution_count": null,
   "id": "6ec88890",
   "metadata": {},
   "outputs": [],
   "source": []
  }
 ],
 "metadata": {
  "kernelspec": {
   "display_name": "Python 3 (ipykernel)",
   "language": "python",
   "name": "python3"
  },
  "language_info": {
   "codemirror_mode": {
    "name": "ipython",
    "version": 3
   },
   "file_extension": ".py",
   "mimetype": "text/x-python",
   "name": "python",
   "nbconvert_exporter": "python",
   "pygments_lexer": "ipython3",
   "version": "3.11.5"
  }
 },
 "nbformat": 4,
 "nbformat_minor": 5
}
